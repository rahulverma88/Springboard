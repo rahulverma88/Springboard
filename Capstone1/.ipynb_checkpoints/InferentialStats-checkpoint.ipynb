{
 "cells": [
  {
   "cell_type": "markdown",
   "metadata": {},
   "source": [
    "# Inferential Statistics"
   ]
  },
  {
   "cell_type": "markdown",
   "metadata": {},
   "source": [
    "In this notebook, I perform inferential statistics for the combined datasets for three states: Texas, North Dakota and Wyoming. \n",
    "\n",
    "The datasets contain total monthly oil production from each county, for each state, for the past several decades. I am comparing that data with unemployment rates and total labor force in each county, as well as the S&P 500 index, which represents a macro-economic indicator.\n",
    "\n",
    "I am mainly interested in finding out which feature has the most impact on unemployment rates in a given county. For that, I loop through all the counties in each state, building a Random Forest regressor for each county, and finding the feature with the highest importance. I then generate a map for each state, highlighting the most important feature for each county."
   ]
  },
  {
   "cell_type": "code",
   "execution_count": 2,
   "metadata": {},
   "outputs": [],
   "source": [
    "import numpy as np\n",
    "import pandas as pd\n",
    "import matplotlib.pyplot as plt\n",
    "import seaborn as sns"
   ]
  },
  {
   "cell_type": "code",
   "execution_count": 8,
   "metadata": {},
   "outputs": [],
   "source": [
    "from sklearn.ensemble import RandomForestRegressor\n",
    "from sklearn.model_selection import train_test_split\n",
    "from sklearn.feature_selection import SelectFromModel\n",
    "from sklearn.preprocessing import scale"
   ]
  },
  {
   "cell_type": "markdown",
   "metadata": {},
   "source": [
    "## Macroeconomic and oil price data"
   ]
  },
  {
   "cell_type": "code",
   "execution_count": 4,
   "metadata": {},
   "outputs": [],
   "source": [
    "# Macroeconomic data\n",
    "sp500 = pd.read_csv('./EconomicIndices/sp500_month.csv')\n",
    "sp500['Date'] = pd.to_datetime(sp500['Date'])\n",
    "sp500.set_index('Date',inplace=True)\n",
    "\n",
    "# Oil Price data\n",
    "oil_price = pd.read_csv('./OilPrices/oil_price_by_month.csv')\n",
    "oil_price['Date'] = pd.to_datetime(oil_price['Date'])\n",
    "oil_price.set_index('Date',inplace=True)"
   ]
  },
  {
   "cell_type": "markdown",
   "metadata": {},
   "source": [
    "Function for getting the main features for each county in a given state. The function returns a dictionary with the county names as keys and the most important features as values."
   ]
  },
  {
   "cell_type": "code",
   "execution_count": 5,
   "metadata": {},
   "outputs": [],
   "source": [
    "def get_main_feature(oil_prod, unemp, lab_force):\n",
    "    min_date = max(min(unemp.index), min(oil_prod.index))\n",
    "    max_date = min(max(unemp.index), max(oil_prod.index))\n",
    "\n",
    "    cur_sp500 = sp500.loc[min_date:max_date]\n",
    "    cur_oil_price = oil_price.loc[min_date:max_date]\n",
    "\n",
    "    oil_prod = oil_prod.loc[min_date:max_date]\n",
    "    unemp = unemp.loc[min_date:max_date]\n",
    "    lab_force = lab_force.loc[min_date:max_date]\n",
    "\n",
    "    imp_feature = dict()\n",
    "    county_list = oil_prod.columns.values\n",
    "\n",
    "    for county in county_list:\n",
    "        cur_data = pd.DataFrame(data={'oil': oil_prod[county], 'lab_force': lab_force[county],\n",
    "                                      'sp500': cur_sp500['SP500'], 'oil_price': cur_oil_price['WTI']})\n",
    "        X = scale(cur_data.values)\n",
    "        y = unemp[county].values\n",
    "\n",
    "        # Create a random forest classifier\n",
    "        clf = RandomForestRegressor(n_estimators=500, random_state=42)\n",
    "\n",
    "        # Train the classifier\n",
    "        clf.fit(X, y)\n",
    "\n",
    "        feat_labels = cur_data.columns.values\n",
    "\n",
    "        # Print the name and gini importance of each feature\n",
    "        feat_imp = dict(zip(feat_labels, clf.feature_importances_))\n",
    "        imp_feature[county] = max(feat_imp, key=feat_imp.get)\n",
    "\n",
    "    return imp_feature"
   ]
  },
  {
   "cell_type": "markdown",
   "metadata": {},
   "source": [
    "## Texas data"
   ]
  },
  {
   "cell_type": "code",
   "execution_count": 6,
   "metadata": {},
   "outputs": [],
   "source": [
    "tx_oil = pd.read_csv('./OilGasProduction/Texas/TexasOilProdCounty.csv')\n",
    "tx_unemp = pd.read_csv('./Unemployment/tx_unemployment.csv')\n",
    "tx_lab_force = pd.read_csv('./Unemployment/tx_laborForce.csv')\n",
    "\n",
    "tx_oil.reset_index(inplace=True)\n",
    "tx_oil['Date']= pd.to_datetime(tx_oil['Date'])\n",
    "tx_oil.drop('index',axis=1,inplace=True)\n",
    "tx_oil = tx_oil.set_index('Date')\n",
    "\n",
    "tx_unemp['Date']= pd.to_datetime(tx_unemp['Date'])\n",
    "tx_unemp = tx_unemp.set_index('Date')\n",
    "\n",
    "tx_lab_force['Date']= pd.to_datetime(tx_lab_force['Date'])\n",
    "tx_lab_force = tx_lab_force.set_index('Date')"
   ]
  },
  {
   "cell_type": "code",
   "execution_count": 9,
   "metadata": {},
   "outputs": [],
   "source": [
    "tx_features = get_main_feature(tx_oil, tx_unemp, tx_lab_force)"
   ]
  },
  {
   "cell_type": "markdown",
   "metadata": {},
   "source": [
    "## North Dakota data"
   ]
  },
  {
   "cell_type": "code",
   "execution_count": 11,
   "metadata": {},
   "outputs": [],
   "source": [
    "nd_oil = pd.read_csv('./OilGasProduction/NorthDakota/NDOilProdCounty.csv')\n",
    "nd_unemp = pd.read_csv('./Unemployment/nd_unemployment.csv')\n",
    "nd_lab_force = pd.read_csv('./Unemployment/nd_laborForce.csv')\n",
    "\n",
    "nd_oil.reset_index(inplace=True)\n",
    "nd_oil['Date']= pd.to_datetime(nd_oil['Date'])\n",
    "nd_oil.drop('index',axis=1,inplace=True)\n",
    "nd_oil = nd_oil.set_index('Date')\n",
    "\n",
    "nd_unemp['Date']= pd.to_datetime(nd_unemp['Date'])\n",
    "nd_unemp = nd_unemp.set_index('Date')\n",
    "\n",
    "nd_lab_force['Date']= pd.to_datetime(nd_lab_force['Date'])\n",
    "nd_lab_force = nd_lab_force.set_index('Date')"
   ]
  },
  {
   "cell_type": "code",
   "execution_count": 12,
   "metadata": {},
   "outputs": [],
   "source": [
    "nd_features = get_main_feature(nd_oil, nd_unemp, nd_lab_force)"
   ]
  },
  {
   "cell_type": "markdown",
   "metadata": {},
   "source": [
    "## Wyoming data"
   ]
  },
  {
   "cell_type": "code",
   "execution_count": 13,
   "metadata": {},
   "outputs": [],
   "source": [
    "wy_oil = pd.read_csv('./OilGasProduction/Wyoming/WYOilProdCounty.csv')\n",
    "wy_unemp = pd.read_csv('./Unemployment/wy_unemployment.csv')\n",
    "wy_lab_force = pd.read_csv('./Unemployment/wy_laborForce.csv')\n",
    "\n",
    "wy_oil.reset_index(inplace=True)\n",
    "wy_oil['Date']= pd.to_datetime(wy_oil['Date'])\n",
    "wy_oil.drop('index',axis=1,inplace=True)\n",
    "wy_oil = wy_oil.set_index('Date')\n",
    "\n",
    "wy_unemp['Date']= pd.to_datetime(wy_unemp['Date'])\n",
    "wy_unemp = wy_unemp.set_index('Date')\n",
    "\n",
    "wy_lab_force['Date']= pd.to_datetime(wy_lab_force['Date'])\n",
    "wy_lab_force = wy_lab_force.set_index('Date')"
   ]
  },
  {
   "cell_type": "code",
   "execution_count": 14,
   "metadata": {},
   "outputs": [],
   "source": [
    "wy_features = get_main_feature(wy_oil, wy_unemp, wy_lab_force)"
   ]
  },
  {
   "cell_type": "code",
   "execution_count": null,
   "metadata": {},
   "outputs": [],
   "source": []
  }
 ],
 "metadata": {
  "kernelspec": {
   "display_name": "Python 3",
   "language": "python",
   "name": "python3"
  },
  "language_info": {
   "codemirror_mode": {
    "name": "ipython",
    "version": 3
   },
   "file_extension": ".py",
   "mimetype": "text/x-python",
   "name": "python",
   "nbconvert_exporter": "python",
   "pygments_lexer": "ipython3",
   "version": "3.6.5"
  }
 },
 "nbformat": 4,
 "nbformat_minor": 2
}
