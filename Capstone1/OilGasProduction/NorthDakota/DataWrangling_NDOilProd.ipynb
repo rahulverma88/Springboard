{
 "cells": [
  {
   "cell_type": "markdown",
   "metadata": {},
   "source": [
    "### North Dakota Production Data"
   ]
  },
  {
   "cell_type": "code",
   "execution_count": 1,
   "metadata": {},
   "outputs": [],
   "source": [
    "import numpy as np\n",
    "import pandas as pd\n",
    "import matplotlib.pyplot as plt\n",
    "import seaborn as sns\n",
    "from os import listdir\n"
   ]
  },
  {
   "cell_type": "markdown",
   "metadata": {},
   "source": [
    "The data is available from Enigma as a huge file aggregating data by each oil well, but is not aggregated by county. This step is done here."
   ]
  },
  {
   "cell_type": "code",
   "execution_count": 2,
   "metadata": {},
   "outputs": [],
   "source": [
    "nd_oil_prod = pd.read_csv('./OilGasProduction/NorthDakota/EnigmaProductionData_Curated.csv')"
   ]
  },
  {
   "cell_type": "code",
   "execution_count": 3,
   "metadata": {},
   "outputs": [
    {
     "data": {
      "text/html": [
       "<div>\n",
       "<style>\n",
       "    .dataframe thead tr:only-child th {\n",
       "        text-align: right;\n",
       "    }\n",
       "\n",
       "    .dataframe thead th {\n",
       "        text-align: left;\n",
       "    }\n",
       "\n",
       "    .dataframe tbody tr th {\n",
       "        vertical-align: top;\n",
       "    }\n",
       "</style>\n",
       "<table border=\"1\" class=\"dataframe\">\n",
       "  <thead>\n",
       "    <tr style=\"text-align: right;\">\n",
       "      <th></th>\n",
       "      <th>api_number</th>\n",
       "      <th>month</th>\n",
       "      <th>oil</th>\n",
       "      <th>gas</th>\n",
       "      <th>water</th>\n",
       "      <th>serialid</th>\n",
       "    </tr>\n",
       "  </thead>\n",
       "  <tbody>\n",
       "    <tr>\n",
       "      <th>0</th>\n",
       "      <td>33025010130000</td>\n",
       "      <td>10-2015</td>\n",
       "      <td>1320</td>\n",
       "      <td>1858</td>\n",
       "      <td>253</td>\n",
       "      <td>2459818</td>\n",
       "    </tr>\n",
       "    <tr>\n",
       "      <th>1</th>\n",
       "      <td>33025010140000</td>\n",
       "      <td>10-2015</td>\n",
       "      <td>1784</td>\n",
       "      <td>1743</td>\n",
       "      <td>826</td>\n",
       "      <td>2459819</td>\n",
       "    </tr>\n",
       "    <tr>\n",
       "      <th>2</th>\n",
       "      <td>33025010160000</td>\n",
       "      <td>10-2015</td>\n",
       "      <td>3178</td>\n",
       "      <td>2542</td>\n",
       "      <td>1090</td>\n",
       "      <td>2459820</td>\n",
       "    </tr>\n",
       "    <tr>\n",
       "      <th>3</th>\n",
       "      <td>33025010170000</td>\n",
       "      <td>10-2015</td>\n",
       "      <td>4288</td>\n",
       "      <td>3431</td>\n",
       "      <td>1754</td>\n",
       "      <td>2459821</td>\n",
       "    </tr>\n",
       "    <tr>\n",
       "      <th>4</th>\n",
       "      <td>33025010180000</td>\n",
       "      <td>10-2015</td>\n",
       "      <td>1591</td>\n",
       "      <td>1750</td>\n",
       "      <td>213</td>\n",
       "      <td>2459822</td>\n",
       "    </tr>\n",
       "  </tbody>\n",
       "</table>\n",
       "</div>"
      ],
      "text/plain": [
       "       api_number    month   oil   gas  water  serialid\n",
       "0  33025010130000  10-2015  1320  1858    253   2459818\n",
       "1  33025010140000  10-2015  1784  1743    826   2459819\n",
       "2  33025010160000  10-2015  3178  2542   1090   2459820\n",
       "3  33025010170000  10-2015  4288  3431   1754   2459821\n",
       "4  33025010180000  10-2015  1591  1750    213   2459822"
      ]
     },
     "execution_count": 3,
     "metadata": {},
     "output_type": "execute_result"
    }
   ],
   "source": [
    "nd_oil_prod.head()"
   ]
  },
  {
   "cell_type": "code",
   "execution_count": 4,
   "metadata": {},
   "outputs": [
    {
     "data": {
      "text/html": [
       "<div>\n",
       "<style>\n",
       "    .dataframe thead tr:only-child th {\n",
       "        text-align: right;\n",
       "    }\n",
       "\n",
       "    .dataframe thead th {\n",
       "        text-align: left;\n",
       "    }\n",
       "\n",
       "    .dataframe tbody tr th {\n",
       "        vertical-align: top;\n",
       "    }\n",
       "</style>\n",
       "<table border=\"1\" class=\"dataframe\">\n",
       "  <thead>\n",
       "    <tr style=\"text-align: right;\">\n",
       "      <th></th>\n",
       "      <th>api_number</th>\n",
       "      <th>oil</th>\n",
       "      <th>gas</th>\n",
       "      <th>water</th>\n",
       "      <th>serialid</th>\n",
       "    </tr>\n",
       "  </thead>\n",
       "  <tbody>\n",
       "    <tr>\n",
       "      <th>count</th>\n",
       "      <td>2.741562e+06</td>\n",
       "      <td>2.741562e+06</td>\n",
       "      <td>2.741562e+06</td>\n",
       "      <td>2.741562e+06</td>\n",
       "      <td>2.741562e+06</td>\n",
       "    </tr>\n",
       "    <tr>\n",
       "      <th>mean</th>\n",
       "      <td>3.304485e+13</td>\n",
       "      <td>1.415911e+03</td>\n",
       "      <td>1.770973e+03</td>\n",
       "      <td>2.111380e+03</td>\n",
       "      <td>1.370782e+06</td>\n",
       "    </tr>\n",
       "    <tr>\n",
       "      <th>std</th>\n",
       "      <td>3.397257e+10</td>\n",
       "      <td>2.740403e+03</td>\n",
       "      <td>6.809530e+03</td>\n",
       "      <td>4.741633e+03</td>\n",
       "      <td>7.914209e+05</td>\n",
       "    </tr>\n",
       "    <tr>\n",
       "      <th>min</th>\n",
       "      <td>3.300100e+13</td>\n",
       "      <td>-8.000000e+00</td>\n",
       "      <td>0.000000e+00</td>\n",
       "      <td>-6.400000e+01</td>\n",
       "      <td>1.000000e+00</td>\n",
       "    </tr>\n",
       "    <tr>\n",
       "      <th>25%</th>\n",
       "      <td>3.301101e+13</td>\n",
       "      <td>1.450000e+02</td>\n",
       "      <td>0.000000e+00</td>\n",
       "      <td>5.400000e+01</td>\n",
       "      <td>6.853912e+05</td>\n",
       "    </tr>\n",
       "    <tr>\n",
       "      <th>50%</th>\n",
       "      <td>3.305300e+13</td>\n",
       "      <td>5.120000e+02</td>\n",
       "      <td>1.760000e+02</td>\n",
       "      <td>6.410000e+02</td>\n",
       "      <td>1.370782e+06</td>\n",
       "    </tr>\n",
       "    <tr>\n",
       "      <th>75%</th>\n",
       "      <td>3.306102e+13</td>\n",
       "      <td>1.553000e+03</td>\n",
       "      <td>1.375000e+03</td>\n",
       "      <td>2.240000e+03</td>\n",
       "      <td>2.056172e+06</td>\n",
       "    </tr>\n",
       "    <tr>\n",
       "      <th>max</th>\n",
       "      <td>3.310504e+13</td>\n",
       "      <td>4.457230e+05</td>\n",
       "      <td>8.124110e+05</td>\n",
       "      <td>2.468340e+05</td>\n",
       "      <td>2.741562e+06</td>\n",
       "    </tr>\n",
       "  </tbody>\n",
       "</table>\n",
       "</div>"
      ],
      "text/plain": [
       "         api_number           oil           gas         water      serialid\n",
       "count  2.741562e+06  2.741562e+06  2.741562e+06  2.741562e+06  2.741562e+06\n",
       "mean   3.304485e+13  1.415911e+03  1.770973e+03  2.111380e+03  1.370782e+06\n",
       "std    3.397257e+10  2.740403e+03  6.809530e+03  4.741633e+03  7.914209e+05\n",
       "min    3.300100e+13 -8.000000e+00  0.000000e+00 -6.400000e+01  1.000000e+00\n",
       "25%    3.301101e+13  1.450000e+02  0.000000e+00  5.400000e+01  6.853912e+05\n",
       "50%    3.305300e+13  5.120000e+02  1.760000e+02  6.410000e+02  1.370782e+06\n",
       "75%    3.306102e+13  1.553000e+03  1.375000e+03  2.240000e+03  2.056172e+06\n",
       "max    3.310504e+13  4.457230e+05  8.124110e+05  2.468340e+05  2.741562e+06"
      ]
     },
     "execution_count": 4,
     "metadata": {},
     "output_type": "execute_result"
    }
   ],
   "source": [
    "nd_oil_prod.describe()"
   ]
  },
  {
   "cell_type": "code",
   "execution_count": 5,
   "metadata": {},
   "outputs": [],
   "source": [
    "nd_oil_prod['COUNTY_API_CODE'] = [x[:5] for x in nd_oil_prod.api_number.astype(str)]"
   ]
  },
  {
   "cell_type": "code",
   "execution_count": 6,
   "metadata": {},
   "outputs": [],
   "source": [
    "api_codes = pd.read_csv('./OilGasProduction/State_County_API.csv')"
   ]
  },
  {
   "cell_type": "code",
   "execution_count": 7,
   "metadata": {},
   "outputs": [
    {
     "data": {
      "text/html": [
       "<div>\n",
       "<style>\n",
       "    .dataframe thead tr:only-child th {\n",
       "        text-align: right;\n",
       "    }\n",
       "\n",
       "    .dataframe thead th {\n",
       "        text-align: left;\n",
       "    }\n",
       "\n",
       "    .dataframe tbody tr th {\n",
       "        vertical-align: top;\n",
       "    }\n",
       "</style>\n",
       "<table border=\"1\" class=\"dataframe\">\n",
       "  <thead>\n",
       "    <tr style=\"text-align: right;\">\n",
       "      <th></th>\n",
       "      <th>Unnamed: 0</th>\n",
       "      <th>API_State_Code</th>\n",
       "      <th>State_Name</th>\n",
       "      <th>County_Code</th>\n",
       "      <th>County_Name</th>\n",
       "    </tr>\n",
       "  </thead>\n",
       "  <tbody>\n",
       "    <tr>\n",
       "      <th>0</th>\n",
       "      <td>0</td>\n",
       "      <td>1</td>\n",
       "      <td>ALABAMA</td>\n",
       "      <td>1</td>\n",
       "      <td>AUTAUGA</td>\n",
       "    </tr>\n",
       "    <tr>\n",
       "      <th>1</th>\n",
       "      <td>1</td>\n",
       "      <td>1</td>\n",
       "      <td>ALABAMA</td>\n",
       "      <td>3</td>\n",
       "      <td>BALDWIN</td>\n",
       "    </tr>\n",
       "    <tr>\n",
       "      <th>2</th>\n",
       "      <td>2</td>\n",
       "      <td>1</td>\n",
       "      <td>ALABAMA</td>\n",
       "      <td>5</td>\n",
       "      <td>BARBOUR</td>\n",
       "    </tr>\n",
       "    <tr>\n",
       "      <th>3</th>\n",
       "      <td>3</td>\n",
       "      <td>1</td>\n",
       "      <td>ALABAMA</td>\n",
       "      <td>7</td>\n",
       "      <td>BIBB</td>\n",
       "    </tr>\n",
       "    <tr>\n",
       "      <th>4</th>\n",
       "      <td>4</td>\n",
       "      <td>1</td>\n",
       "      <td>ALABAMA</td>\n",
       "      <td>9</td>\n",
       "      <td>BLOUNT</td>\n",
       "    </tr>\n",
       "  </tbody>\n",
       "</table>\n",
       "</div>"
      ],
      "text/plain": [
       "   Unnamed: 0  API_State_Code State_Name  County_Code County_Name\n",
       "0           0               1    ALABAMA            1     AUTAUGA\n",
       "1           1               1    ALABAMA            3     BALDWIN\n",
       "2           2               1    ALABAMA            5     BARBOUR\n",
       "3           3               1    ALABAMA            7        BIBB\n",
       "4           4               1    ALABAMA            9      BLOUNT"
      ]
     },
     "execution_count": 7,
     "metadata": {},
     "output_type": "execute_result"
    }
   ],
   "source": [
    "api_codes.head()"
   ]
  },
  {
   "cell_type": "code",
   "execution_count": 8,
   "metadata": {},
   "outputs": [],
   "source": [
    "api_codes['API_County_Codes'] = [\"%02d%03d\" % (x,y) for x,y in zip(api_codes['API_State_Code'], api_codes['County_Code'])] "
   ]
  },
  {
   "cell_type": "code",
   "execution_count": 9,
   "metadata": {},
   "outputs": [],
   "source": [
    "api_county_dict = dict(zip(api_codes['API_County_Codes'],api_codes['County_Name']))"
   ]
  },
  {
   "cell_type": "code",
   "execution_count": 10,
   "metadata": {},
   "outputs": [],
   "source": [
    "nd_oil_prod['County_Name'] = nd_oil_prod['COUNTY_API_CODE'].map(api_county_dict)"
   ]
  },
  {
   "cell_type": "code",
   "execution_count": 11,
   "metadata": {},
   "outputs": [
    {
     "data": {
      "text/plain": [
       "array(['33025', '33033', '33049', '33053', '33055', '33061', '33075',\n",
       "       '33087', '33089', '33101', '33105', '33007', '33009', '33011',\n",
       "       '33023', '33013', '33041', '33057', '33001'], dtype=object)"
      ]
     },
     "execution_count": 11,
     "metadata": {},
     "output_type": "execute_result"
    }
   ],
   "source": [
    "nd_oil_prod.COUNTY_API_CODE.unique()"
   ]
  },
  {
   "cell_type": "code",
   "execution_count": 12,
   "metadata": {},
   "outputs": [
    {
     "data": {
      "text/plain": [
       "array(['DUNN', 'GOLDEN VALLEY', 'MC HENRY', 'MC KENZIE', 'MCLEAN',\n",
       "       'MOUNTRAIL', 'RENVILLE', 'SLOPE', 'STARK', 'WARD', 'WILLIAMS',\n",
       "       'BILLINGS', 'BOTTINEAU', 'BOWMAN', 'DIVIDE', 'BURKE', 'HETTINGER',\n",
       "       'MERCER', 'ADAMS'], dtype=object)"
      ]
     },
     "execution_count": 12,
     "metadata": {},
     "output_type": "execute_result"
    }
   ],
   "source": [
    "nd_oil_prod.County_Name.unique()"
   ]
  },
  {
   "cell_type": "code",
   "execution_count": 13,
   "metadata": {},
   "outputs": [
    {
     "data": {
      "text/plain": [
       "(53, 6)"
      ]
     },
     "execution_count": 13,
     "metadata": {},
     "output_type": "execute_result"
    }
   ],
   "source": [
    "api_codes[api_codes['State_Name'] == 'NORTH DAKOTA'].shape"
   ]
  },
  {
   "cell_type": "code",
   "execution_count": 14,
   "metadata": {},
   "outputs": [],
   "source": [
    "nd_oil_month = nd_oil_prod.drop(['gas','water','serialid','api_number','COUNTY_API_CODE'],axis=1).groupby(['County_Name','month']).agg('sum')"
   ]
  },
  {
   "cell_type": "code",
   "execution_count": 15,
   "metadata": {},
   "outputs": [],
   "source": [
    "nd_oil_month = nd_oil_month.reset_index()"
   ]
  },
  {
   "cell_type": "code",
   "execution_count": 16,
   "metadata": {},
   "outputs": [],
   "source": [
    "nd_oil_month.month = pd.to_datetime(nd_oil_month.month)"
   ]
  },
  {
   "cell_type": "code",
   "execution_count": 17,
   "metadata": {},
   "outputs": [
    {
     "data": {
      "text/html": [
       "<div>\n",
       "<style>\n",
       "    .dataframe thead tr:only-child th {\n",
       "        text-align: right;\n",
       "    }\n",
       "\n",
       "    .dataframe thead th {\n",
       "        text-align: left;\n",
       "    }\n",
       "\n",
       "    .dataframe tbody tr th {\n",
       "        vertical-align: top;\n",
       "    }\n",
       "</style>\n",
       "<table border=\"1\" class=\"dataframe\">\n",
       "  <thead>\n",
       "    <tr style=\"text-align: right;\">\n",
       "      <th></th>\n",
       "      <th>County_Name</th>\n",
       "      <th>month</th>\n",
       "      <th>oil</th>\n",
       "    </tr>\n",
       "  </thead>\n",
       "  <tbody>\n",
       "    <tr>\n",
       "      <th>0</th>\n",
       "      <td>ADAMS</td>\n",
       "      <td>1995-01-01</td>\n",
       "      <td>20</td>\n",
       "    </tr>\n",
       "    <tr>\n",
       "      <th>1</th>\n",
       "      <td>ADAMS</td>\n",
       "      <td>1996-01-01</td>\n",
       "      <td>0</td>\n",
       "    </tr>\n",
       "    <tr>\n",
       "      <th>2</th>\n",
       "      <td>ADAMS</td>\n",
       "      <td>1997-01-01</td>\n",
       "      <td>0</td>\n",
       "    </tr>\n",
       "    <tr>\n",
       "      <th>3</th>\n",
       "      <td>ADAMS</td>\n",
       "      <td>1995-02-01</td>\n",
       "      <td>0</td>\n",
       "    </tr>\n",
       "    <tr>\n",
       "      <th>4</th>\n",
       "      <td>ADAMS</td>\n",
       "      <td>1996-02-01</td>\n",
       "      <td>0</td>\n",
       "    </tr>\n",
       "  </tbody>\n",
       "</table>\n",
       "</div>"
      ],
      "text/plain": [
       "  County_Name      month  oil\n",
       "0       ADAMS 1995-01-01   20\n",
       "1       ADAMS 1996-01-01    0\n",
       "2       ADAMS 1997-01-01    0\n",
       "3       ADAMS 1995-02-01    0\n",
       "4       ADAMS 1996-02-01    0"
      ]
     },
     "execution_count": 17,
     "metadata": {},
     "output_type": "execute_result"
    }
   ],
   "source": [
    "nd_oil_month.head()"
   ]
  },
  {
   "cell_type": "code",
   "execution_count": 18,
   "metadata": {},
   "outputs": [],
   "source": [
    "nd_oil_month.columns = ['County_Name','Date','Oil_Production']"
   ]
  },
  {
   "cell_type": "code",
   "execution_count": 19,
   "metadata": {},
   "outputs": [],
   "source": [
    "nd_oil_month.Date = nd_oil_month.Date.dt.strftime('%m/%Y')"
   ]
  },
  {
   "cell_type": "code",
   "execution_count": 20,
   "metadata": {},
   "outputs": [
    {
     "data": {
      "text/html": [
       "<div>\n",
       "<style>\n",
       "    .dataframe thead tr:only-child th {\n",
       "        text-align: right;\n",
       "    }\n",
       "\n",
       "    .dataframe thead th {\n",
       "        text-align: left;\n",
       "    }\n",
       "\n",
       "    .dataframe tbody tr th {\n",
       "        vertical-align: top;\n",
       "    }\n",
       "</style>\n",
       "<table border=\"1\" class=\"dataframe\">\n",
       "  <thead>\n",
       "    <tr style=\"text-align: right;\">\n",
       "      <th></th>\n",
       "      <th>County_Name</th>\n",
       "      <th>Date</th>\n",
       "      <th>Oil_Production</th>\n",
       "    </tr>\n",
       "  </thead>\n",
       "  <tbody>\n",
       "    <tr>\n",
       "      <th>0</th>\n",
       "      <td>ADAMS</td>\n",
       "      <td>01/1995</td>\n",
       "      <td>20</td>\n",
       "    </tr>\n",
       "    <tr>\n",
       "      <th>1</th>\n",
       "      <td>ADAMS</td>\n",
       "      <td>01/1996</td>\n",
       "      <td>0</td>\n",
       "    </tr>\n",
       "    <tr>\n",
       "      <th>2</th>\n",
       "      <td>ADAMS</td>\n",
       "      <td>01/1997</td>\n",
       "      <td>0</td>\n",
       "    </tr>\n",
       "    <tr>\n",
       "      <th>3</th>\n",
       "      <td>ADAMS</td>\n",
       "      <td>02/1995</td>\n",
       "      <td>0</td>\n",
       "    </tr>\n",
       "    <tr>\n",
       "      <th>4</th>\n",
       "      <td>ADAMS</td>\n",
       "      <td>02/1996</td>\n",
       "      <td>0</td>\n",
       "    </tr>\n",
       "  </tbody>\n",
       "</table>\n",
       "</div>"
      ],
      "text/plain": [
       "  County_Name     Date  Oil_Production\n",
       "0       ADAMS  01/1995              20\n",
       "1       ADAMS  01/1996               0\n",
       "2       ADAMS  01/1997               0\n",
       "3       ADAMS  02/1995               0\n",
       "4       ADAMS  02/1996               0"
      ]
     },
     "execution_count": 20,
     "metadata": {},
     "output_type": "execute_result"
    }
   ],
   "source": [
    "nd_oil_month.head()"
   ]
  },
  {
   "cell_type": "code",
   "execution_count": 21,
   "metadata": {},
   "outputs": [
    {
     "data": {
      "text/plain": [
       "array(['ADAMS', 'BILLINGS', 'BOTTINEAU', 'BOWMAN', 'BURKE', 'DIVIDE',\n",
       "       'DUNN', 'GOLDEN VALLEY', 'HETTINGER', 'MC HENRY', 'MC KENZIE',\n",
       "       'MCLEAN', 'MERCER', 'MOUNTRAIL', 'RENVILLE', 'SLOPE', 'STARK',\n",
       "       'WARD', 'WILLIAMS'], dtype=object)"
      ]
     },
     "execution_count": 21,
     "metadata": {},
     "output_type": "execute_result"
    }
   ],
   "source": [
    "nd_oil_month.County_Name.unique()"
   ]
  },
  {
   "cell_type": "markdown",
   "metadata": {},
   "source": [
    "The county names are in a different format than the Texas data, and the Unemployment data. Here I'm using the unemployment data to correct the format."
   ]
  },
  {
   "cell_type": "code",
   "execution_count": 22,
   "metadata": {},
   "outputs": [],
   "source": [
    "nd_unemp = pd.read_csv('./UnemploymentData/nd_unemployment.csv')"
   ]
  },
  {
   "cell_type": "code",
   "execution_count": 23,
   "metadata": {},
   "outputs": [],
   "source": [
    "nd_unemp_melted = pd.melt(nd_unemp,id_vars = ['Time'],var_name='County_Name',value_name='Unemployment_Rate')"
   ]
  },
  {
   "cell_type": "code",
   "execution_count": 24,
   "metadata": {},
   "outputs": [
    {
     "data": {
      "text/html": [
       "<div>\n",
       "<style>\n",
       "    .dataframe thead tr:only-child th {\n",
       "        text-align: right;\n",
       "    }\n",
       "\n",
       "    .dataframe thead th {\n",
       "        text-align: left;\n",
       "    }\n",
       "\n",
       "    .dataframe tbody tr th {\n",
       "        vertical-align: top;\n",
       "    }\n",
       "</style>\n",
       "<table border=\"1\" class=\"dataframe\">\n",
       "  <thead>\n",
       "    <tr style=\"text-align: right;\">\n",
       "      <th></th>\n",
       "      <th>Time</th>\n",
       "      <th>County_Name</th>\n",
       "      <th>Unemployment_Rate</th>\n",
       "    </tr>\n",
       "  </thead>\n",
       "  <tbody>\n",
       "    <tr>\n",
       "      <th>0</th>\n",
       "      <td>01/1990</td>\n",
       "      <td>Adams County, ND</td>\n",
       "      <td>2.1</td>\n",
       "    </tr>\n",
       "    <tr>\n",
       "      <th>1</th>\n",
       "      <td>01/1991</td>\n",
       "      <td>Adams County, ND</td>\n",
       "      <td>3.4</td>\n",
       "    </tr>\n",
       "    <tr>\n",
       "      <th>2</th>\n",
       "      <td>01/1992</td>\n",
       "      <td>Adams County, ND</td>\n",
       "      <td>3.2</td>\n",
       "    </tr>\n",
       "    <tr>\n",
       "      <th>3</th>\n",
       "      <td>01/1993</td>\n",
       "      <td>Adams County, ND</td>\n",
       "      <td>2.2</td>\n",
       "    </tr>\n",
       "    <tr>\n",
       "      <th>4</th>\n",
       "      <td>01/1994</td>\n",
       "      <td>Adams County, ND</td>\n",
       "      <td>1.9</td>\n",
       "    </tr>\n",
       "  </tbody>\n",
       "</table>\n",
       "</div>"
      ],
      "text/plain": [
       "      Time       County_Name  Unemployment_Rate\n",
       "0  01/1990  Adams County, ND                2.1\n",
       "1  01/1991  Adams County, ND                3.4\n",
       "2  01/1992  Adams County, ND                3.2\n",
       "3  01/1993  Adams County, ND                2.2\n",
       "4  01/1994  Adams County, ND                1.9"
      ]
     },
     "execution_count": 24,
     "metadata": {},
     "output_type": "execute_result"
    }
   ],
   "source": [
    "nd_unemp_melted.head()"
   ]
  },
  {
   "cell_type": "code",
   "execution_count": 25,
   "metadata": {},
   "outputs": [],
   "source": [
    "nd_format_county = dict()\n",
    "\n",
    "for county in nd_oil_month.County_Name.unique():\n",
    "    nd_format_county[county] = ''.join([s for s in nd_unemp_melted.County_Name.unique() if county.replace(' ','').lower() in s.replace(' ','').lower()])"
   ]
  },
  {
   "cell_type": "code",
   "execution_count": 26,
   "metadata": {},
   "outputs": [
    {
     "data": {
      "text/plain": [
       "{'ADAMS': 'Adams County, ND',\n",
       " 'BILLINGS': 'Billings County, ND',\n",
       " 'BOTTINEAU': 'Bottineau County, ND',\n",
       " 'BOWMAN': 'Bowman County, ND',\n",
       " 'BURKE': 'Burke County, ND',\n",
       " 'DIVIDE': 'Divide County, ND',\n",
       " 'DUNN': 'Dunn County, ND',\n",
       " 'GOLDEN VALLEY': 'Golden Valley County, ND',\n",
       " 'HETTINGER': 'Hettinger County, ND',\n",
       " 'MC HENRY': 'McHenry County, ND',\n",
       " 'MC KENZIE': 'McKenzie County, ND',\n",
       " 'MCLEAN': 'McLean County, ND',\n",
       " 'MERCER': 'Mercer County, ND',\n",
       " 'MOUNTRAIL': 'Mountrail County, ND',\n",
       " 'RENVILLE': 'Renville County, ND',\n",
       " 'SLOPE': 'Slope County, ND',\n",
       " 'STARK': 'Stark County, ND',\n",
       " 'WARD': 'Ward County, ND',\n",
       " 'WILLIAMS': 'Williams County, ND'}"
      ]
     },
     "execution_count": 26,
     "metadata": {},
     "output_type": "execute_result"
    }
   ],
   "source": [
    "nd_format_county"
   ]
  },
  {
   "cell_type": "code",
   "execution_count": 27,
   "metadata": {},
   "outputs": [],
   "source": [
    "nd_oil_month.County_Name = nd_oil_month.County_Name.map(nd_format_county)"
   ]
  },
  {
   "cell_type": "code",
   "execution_count": 28,
   "metadata": {},
   "outputs": [],
   "source": [
    "nd_oil_month = nd_oil_month.groupby(['County_Name','Date']).agg({'Oil_Production':'max'})"
   ]
  },
  {
   "cell_type": "code",
   "execution_count": 29,
   "metadata": {},
   "outputs": [],
   "source": [
    "nd_oil_month = nd_oil_month.reset_index()"
   ]
  },
  {
   "cell_type": "code",
   "execution_count": 30,
   "metadata": {},
   "outputs": [],
   "source": [
    "nd_oil_month = nd_oil_month.pivot(index='Date',columns='County_Name',values='Oil_Production')"
   ]
  },
  {
   "cell_type": "code",
   "execution_count": 31,
   "metadata": {},
   "outputs": [
    {
     "data": {
      "text/html": [
       "<div>\n",
       "<style>\n",
       "    .dataframe thead tr:only-child th {\n",
       "        text-align: right;\n",
       "    }\n",
       "\n",
       "    .dataframe thead th {\n",
       "        text-align: left;\n",
       "    }\n",
       "\n",
       "    .dataframe tbody tr th {\n",
       "        vertical-align: top;\n",
       "    }\n",
       "</style>\n",
       "<table border=\"1\" class=\"dataframe\">\n",
       "  <thead>\n",
       "    <tr style=\"text-align: right;\">\n",
       "      <th>County_Name</th>\n",
       "      <th>Adams County, ND</th>\n",
       "      <th>Billings County, ND</th>\n",
       "      <th>Bottineau County, ND</th>\n",
       "      <th>Bowman County, ND</th>\n",
       "      <th>Burke County, ND</th>\n",
       "      <th>Divide County, ND</th>\n",
       "      <th>Dunn County, ND</th>\n",
       "      <th>Golden Valley County, ND</th>\n",
       "      <th>Hettinger County, ND</th>\n",
       "      <th>McHenry County, ND</th>\n",
       "      <th>McKenzie County, ND</th>\n",
       "      <th>McLean County, ND</th>\n",
       "      <th>Mercer County, ND</th>\n",
       "      <th>Mountrail County, ND</th>\n",
       "      <th>Renville County, ND</th>\n",
       "      <th>Slope County, ND</th>\n",
       "      <th>Stark County, ND</th>\n",
       "      <th>Ward County, ND</th>\n",
       "      <th>Williams County, ND</th>\n",
       "    </tr>\n",
       "    <tr>\n",
       "      <th>Date</th>\n",
       "      <th></th>\n",
       "      <th></th>\n",
       "      <th></th>\n",
       "      <th></th>\n",
       "      <th></th>\n",
       "      <th></th>\n",
       "      <th></th>\n",
       "      <th></th>\n",
       "      <th></th>\n",
       "      <th></th>\n",
       "      <th></th>\n",
       "      <th></th>\n",
       "      <th></th>\n",
       "      <th></th>\n",
       "      <th></th>\n",
       "      <th></th>\n",
       "      <th></th>\n",
       "      <th></th>\n",
       "      <th></th>\n",
       "    </tr>\n",
       "  </thead>\n",
       "  <tbody>\n",
       "    <tr>\n",
       "      <th>01/1952</th>\n",
       "      <td>NaN</td>\n",
       "      <td>NaN</td>\n",
       "      <td>NaN</td>\n",
       "      <td>NaN</td>\n",
       "      <td>NaN</td>\n",
       "      <td>NaN</td>\n",
       "      <td>NaN</td>\n",
       "      <td>NaN</td>\n",
       "      <td>NaN</td>\n",
       "      <td>NaN</td>\n",
       "      <td>NaN</td>\n",
       "      <td>NaN</td>\n",
       "      <td>NaN</td>\n",
       "      <td>NaN</td>\n",
       "      <td>NaN</td>\n",
       "      <td>NaN</td>\n",
       "      <td>NaN</td>\n",
       "      <td>NaN</td>\n",
       "      <td>7166.0</td>\n",
       "    </tr>\n",
       "    <tr>\n",
       "      <th>01/1953</th>\n",
       "      <td>NaN</td>\n",
       "      <td>NaN</td>\n",
       "      <td>293.0</td>\n",
       "      <td>NaN</td>\n",
       "      <td>NaN</td>\n",
       "      <td>NaN</td>\n",
       "      <td>NaN</td>\n",
       "      <td>NaN</td>\n",
       "      <td>NaN</td>\n",
       "      <td>NaN</td>\n",
       "      <td>2683.0</td>\n",
       "      <td>NaN</td>\n",
       "      <td>NaN</td>\n",
       "      <td>48367.0</td>\n",
       "      <td>NaN</td>\n",
       "      <td>NaN</td>\n",
       "      <td>NaN</td>\n",
       "      <td>NaN</td>\n",
       "      <td>405895.0</td>\n",
       "    </tr>\n",
       "    <tr>\n",
       "      <th>01/1954</th>\n",
       "      <td>NaN</td>\n",
       "      <td>9001.0</td>\n",
       "      <td>1635.0</td>\n",
       "      <td>NaN</td>\n",
       "      <td>1255.0</td>\n",
       "      <td>NaN</td>\n",
       "      <td>NaN</td>\n",
       "      <td>NaN</td>\n",
       "      <td>NaN</td>\n",
       "      <td>NaN</td>\n",
       "      <td>20670.0</td>\n",
       "      <td>NaN</td>\n",
       "      <td>NaN</td>\n",
       "      <td>84835.0</td>\n",
       "      <td>NaN</td>\n",
       "      <td>NaN</td>\n",
       "      <td>NaN</td>\n",
       "      <td>NaN</td>\n",
       "      <td>335948.0</td>\n",
       "    </tr>\n",
       "    <tr>\n",
       "      <th>01/1955</th>\n",
       "      <td>NaN</td>\n",
       "      <td>21178.0</td>\n",
       "      <td>12933.0</td>\n",
       "      <td>NaN</td>\n",
       "      <td>7099.0</td>\n",
       "      <td>NaN</td>\n",
       "      <td>NaN</td>\n",
       "      <td>NaN</td>\n",
       "      <td>NaN</td>\n",
       "      <td>NaN</td>\n",
       "      <td>64412.0</td>\n",
       "      <td>NaN</td>\n",
       "      <td>NaN</td>\n",
       "      <td>220109.0</td>\n",
       "      <td>NaN</td>\n",
       "      <td>NaN</td>\n",
       "      <td>NaN</td>\n",
       "      <td>NaN</td>\n",
       "      <td>669576.0</td>\n",
       "    </tr>\n",
       "    <tr>\n",
       "      <th>01/1956</th>\n",
       "      <td>NaN</td>\n",
       "      <td>18302.0</td>\n",
       "      <td>32257.0</td>\n",
       "      <td>NaN</td>\n",
       "      <td>12525.0</td>\n",
       "      <td>NaN</td>\n",
       "      <td>NaN</td>\n",
       "      <td>NaN</td>\n",
       "      <td>NaN</td>\n",
       "      <td>NaN</td>\n",
       "      <td>145492.0</td>\n",
       "      <td>NaN</td>\n",
       "      <td>NaN</td>\n",
       "      <td>261804.0</td>\n",
       "      <td>NaN</td>\n",
       "      <td>NaN</td>\n",
       "      <td>365.0</td>\n",
       "      <td>NaN</td>\n",
       "      <td>862845.0</td>\n",
       "    </tr>\n",
       "  </tbody>\n",
       "</table>\n",
       "</div>"
      ],
      "text/plain": [
       "County_Name  Adams County, ND  Billings County, ND  Bottineau County, ND  \\\n",
       "Date                                                                       \n",
       "01/1952                   NaN                  NaN                   NaN   \n",
       "01/1953                   NaN                  NaN                 293.0   \n",
       "01/1954                   NaN               9001.0                1635.0   \n",
       "01/1955                   NaN              21178.0               12933.0   \n",
       "01/1956                   NaN              18302.0               32257.0   \n",
       "\n",
       "County_Name  Bowman County, ND  Burke County, ND  Divide County, ND  \\\n",
       "Date                                                                  \n",
       "01/1952                    NaN               NaN                NaN   \n",
       "01/1953                    NaN               NaN                NaN   \n",
       "01/1954                    NaN            1255.0                NaN   \n",
       "01/1955                    NaN            7099.0                NaN   \n",
       "01/1956                    NaN           12525.0                NaN   \n",
       "\n",
       "County_Name  Dunn County, ND  Golden Valley County, ND  Hettinger County, ND  \\\n",
       "Date                                                                           \n",
       "01/1952                  NaN                       NaN                   NaN   \n",
       "01/1953                  NaN                       NaN                   NaN   \n",
       "01/1954                  NaN                       NaN                   NaN   \n",
       "01/1955                  NaN                       NaN                   NaN   \n",
       "01/1956                  NaN                       NaN                   NaN   \n",
       "\n",
       "County_Name  McHenry County, ND  McKenzie County, ND  McLean County, ND  \\\n",
       "Date                                                                      \n",
       "01/1952                     NaN                  NaN                NaN   \n",
       "01/1953                     NaN               2683.0                NaN   \n",
       "01/1954                     NaN              20670.0                NaN   \n",
       "01/1955                     NaN              64412.0                NaN   \n",
       "01/1956                     NaN             145492.0                NaN   \n",
       "\n",
       "County_Name  Mercer County, ND  Mountrail County, ND  Renville County, ND  \\\n",
       "Date                                                                        \n",
       "01/1952                    NaN                   NaN                  NaN   \n",
       "01/1953                    NaN               48367.0                  NaN   \n",
       "01/1954                    NaN               84835.0                  NaN   \n",
       "01/1955                    NaN              220109.0                  NaN   \n",
       "01/1956                    NaN              261804.0                  NaN   \n",
       "\n",
       "County_Name  Slope County, ND  Stark County, ND  Ward County, ND  \\\n",
       "Date                                                               \n",
       "01/1952                   NaN               NaN              NaN   \n",
       "01/1953                   NaN               NaN              NaN   \n",
       "01/1954                   NaN               NaN              NaN   \n",
       "01/1955                   NaN               NaN              NaN   \n",
       "01/1956                   NaN             365.0              NaN   \n",
       "\n",
       "County_Name  Williams County, ND  \n",
       "Date                              \n",
       "01/1952                   7166.0  \n",
       "01/1953                 405895.0  \n",
       "01/1954                 335948.0  \n",
       "01/1955                 669576.0  \n",
       "01/1956                 862845.0  "
      ]
     },
     "execution_count": 31,
     "metadata": {},
     "output_type": "execute_result"
    }
   ],
   "source": [
    "nd_oil_month.head()"
   ]
  },
  {
   "cell_type": "code",
   "execution_count": 32,
   "metadata": {},
   "outputs": [],
   "source": [
    "nd_oil_month = nd_oil_month.fillna(0)"
   ]
  },
  {
   "cell_type": "code",
   "execution_count": 33,
   "metadata": {},
   "outputs": [],
   "source": [
    "nd_oil_month.to_csv('./OilGasProduction/NorthDakota/NDOilProdCounty.csv')"
   ]
  }
 ],
 "metadata": {
  "kernelspec": {
   "display_name": "Python 3",
   "language": "python",
   "name": "python3"
  },
  "language_info": {
   "codemirror_mode": {
    "name": "ipython",
    "version": 3
   },
   "file_extension": ".py",
   "mimetype": "text/x-python",
   "name": "python",
   "nbconvert_exporter": "python",
   "pygments_lexer": "ipython3",
   "version": "3.6.0"
  }
 },
 "nbformat": 4,
 "nbformat_minor": 2
}
